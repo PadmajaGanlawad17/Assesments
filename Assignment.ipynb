{
 "cells": [
  {
   "cell_type": "code",
   "execution_count": 23,
   "id": "72259237-888c-4086-8c1b-5c7dcb929272",
   "metadata": {},
   "outputs": [
    {
     "name": "stdout",
     "output_type": "stream",
     "text": [
      "Integer variable: 42, Type: <class 'int'>\n",
      "Float variable: 3.14, Type: <class 'float'>\n",
      "String variable: Hello, world!, Type: <class 'str'>\n",
      "Boolean variable: True, Type: <class 'bool'>\n"
     ]
    }
   ],
   "source": [
    "# Declare variables of different data types\n",
    "integer_var = 42  # Integer\n",
    "float_var = 3.14  # Float\n",
    "string_var = \"Hello, world!\"  # String\n",
    "boolean_var = True  # Boolean\n",
    "\n",
    "# Print each variable and its type\n",
    "print(f\"Integer variable: {integer_var}, Type: {type(integer_var)}\")\n",
    "print(f\"Float variable: {float_var}, Type: {type(float_var)}\")\n",
    "print(f\"String variable: {string_var}, Type: {type(string_var)}\")\n",
    "print(f\"Boolean variable: {boolean_var}, Type: {type(boolean_var)}\")\n"
   ]
  },
  {
   "cell_type": "code",
   "execution_count": 25,
   "id": "b88e52ef-8cf0-402e-a4ff-0c290dee83f3",
   "metadata": {},
   "outputs": [
    {
     "name": "stdout",
     "output_type": "stream",
     "text": [
      "Accessing elements from List:\n",
      "Element at index 0: 10\n",
      "Element at index 2: 30\n",
      "Element at index -1: 50\n",
      "\n",
      "Accessing elements from Tuple:\n",
      "Element at index 1: 200\n",
      "Element at index 3: 400\n",
      "Element at index -2: 400\n",
      "\n",
      "Accessing elements from Dictionary:\n",
      "Value for key 'a': 1\n",
      "Value for key 'c': 3\n",
      "Value for key 'e': 5\n"
     ]
    }
   ],
   "source": [
    "# Creating a List with 5 elements\n",
    "my_list = [10, 20, 30, 40, 50]\n",
    "\n",
    "# Accessing elements by index in the List\n",
    "print(\"Accessing elements from List:\")\n",
    "print(f\"Element at index 0: {my_list[0]}\")  # Access first element\n",
    "print(f\"Element at index 2: {my_list[2]}\")  # Access third element\n",
    "print(f\"Element at index -1: {my_list[-1]}\")  # Access last element (negative index)\n",
    "\n",
    "# Creating a Tuple with 5 elements\n",
    "my_tuple = (100, 200, 300, 400, 500)\n",
    "\n",
    "# Accessing elements by index in the Tuple\n",
    "print(\"\\nAccessing elements from Tuple:\")\n",
    "print(f\"Element at index 1: {my_tuple[1]}\")  # Access second element\n",
    "print(f\"Element at index 3: {my_tuple[3]}\")  # Access fourth element\n",
    "print(f\"Element at index -2: {my_tuple[-2]}\")  # Access second to last element\n",
    "\n",
    "# Creating a Dictionary with 5 elements\n",
    "my_dict = {\n",
    "    'a': 1,\n",
    "    'b': 2,\n",
    "    'c': 3,\n",
    "    'd': 4,\n",
    "    'e': 5\n",
    "}\n",
    "\n",
    "# Accessing elements by key in the Dictionary\n",
    "print(\"\\nAccessing elements from Dictionary:\")\n",
    "print(f\"Value for key 'a': {my_dict['a']}\")  # Access element by key\n",
    "print(f\"Value for key 'c': {my_dict['c']}\")  # Access element by key\n",
    "print(f\"Value for key 'e': {my_dict['e']}\")  # Access element by key\n"
   ]
  },
  {
   "cell_type": "code",
   "execution_count": 27,
   "id": "0350dca3-17c4-4095-a56b-66c680708953",
   "metadata": {},
   "outputs": [
    {
     "name": "stdin",
     "output_type": "stream",
     "text": [
      "Enter marks for Subject 1:  85\n",
      "Enter marks for Subject 2:  92\n",
      "Enter marks for Subject 3:  45\n"
     ]
    },
    {
     "name": "stdout",
     "output_type": "stream",
     "text": [
      "Grade: C\n"
     ]
    }
   ],
   "source": [
    "# Taking input for marks in three subjects\n",
    "subject1 = float(input(\"Enter marks for Subject 1: \"))\n",
    "subject2 = float(input(\"Enter marks for Subject 2: \"))\n",
    "subject3 = float(input(\"Enter marks for Subject 3: \"))\n",
    "\n",
    "# Calculating the average of the marks\n",
    "average = (subject1 + subject2 + subject3) / 3\n",
    "\n",
    "# Checking the grade based on the average\n",
    "if average >= 90:\n",
    "    print(\"Grade: A\")\n",
    "elif 80 <= average < 90:\n",
    "    print(\"Grade: B\")\n",
    "elif 70 <= average < 80:\n",
    "    print(\"Grade: C\")\n",
    "else:\n",
    "    print(\"Grade: Fail\")\n"
   ]
  },
  {
   "cell_type": "code",
   "execution_count": 29,
   "id": "974bce1a-1258-418e-983f-7f6dfef7c252",
   "metadata": {},
   "outputs": [
    {
     "name": "stdin",
     "output_type": "stream",
     "text": [
      "Enter a positive integer:  9\n"
     ]
    },
    {
     "name": "stdout",
     "output_type": "stream",
     "text": [
      "The sum of all even numbers between 1 and 9 is: 20\n"
     ]
    }
   ],
   "source": [
    "# Taking input for the integer n\n",
    "n = int(input(\"Enter a positive integer: \"))\n",
    "\n",
    "# Initialize the sum variable\n",
    "even_sum = 0\n",
    "\n",
    "# Loop through numbers from 1 to n\n",
    "for i in range(2, n + 1, 2):  # Start from 2, and increment by 2 to get even numbers\n",
    "    even_sum += i  # Add each even number to the sum\n",
    "\n",
    "# Output the result\n",
    "print(f\"The sum of all even numbers between 1 and {n} is: {even_sum}\")\n"
   ]
  },
  {
   "cell_type": "code",
   "execution_count": 31,
   "id": "27bba261-17de-40c8-ae30-9fc1f857b16a",
   "metadata": {},
   "outputs": [
    {
     "name": "stdin",
     "output_type": "stream",
     "text": [
      "Enter a positive integer:  8\n"
     ]
    },
    {
     "name": "stdout",
     "output_type": "stream",
     "text": [
      "\n",
      "Printing numbers from 1 to 8 using a for loop:\n",
      "1\n",
      "2\n",
      "3\n",
      "4\n",
      "5\n",
      "6\n",
      "7\n",
      "8\n",
      "\n",
      "The sum of all numbers from 1 to 8 is: 36\n"
     ]
    }
   ],
   "source": [
    "# Task 1: Ask the user to enter a positive integer n\n",
    "n = int(input(\"Enter a positive integer: \"))\n",
    "\n",
    "# Task 2: Use a for loop to print all numbers from 1 to n on separate lines\n",
    "print(\"\\nPrinting numbers from 1 to\", n, \"using a for loop:\")\n",
    "for i in range(1, n + 1):\n",
    "    print(i)\n",
    "\n",
    "# Task 3: Use a while loop to calculate the sum of all numbers from 1 to n\n",
    "sum_of_numbers = 0\n",
    "i = 1\n",
    "while i <= n:\n",
    "    sum_of_numbers += i\n",
    "    i += 1\n",
    "\n",
    "# Print the result\n",
    "print(\"\\nThe sum of all numbers from 1 to\", n, \"is:\", sum_of_numbers)\n"
   ]
  },
  {
   "cell_type": "code",
   "execution_count": 33,
   "id": "a72c894f-555d-41c1-a1fa-e2ea1233087a",
   "metadata": {},
   "outputs": [
    {
     "name": "stdin",
     "output_type": "stream",
     "text": [
      "Enter a positive integer:  4\n"
     ]
    },
    {
     "name": "stdout",
     "output_type": "stream",
     "text": [
      "The square of 4 is: 16\n"
     ]
    }
   ],
   "source": [
    "# Task 1: Define the calculate_square function\n",
    "def calculate_square(n):\n",
    "    return n * n\n",
    "\n",
    "# Task 2: Ask the user to input a positive integer\n",
    "n = int(input(\"Enter a positive integer: \"))\n",
    "\n",
    "# Task 3: Call the calculate_square function and display the result\n",
    "square = calculate_square(n)\n",
    "print(f\"The square of {n} is: {square}\")\n"
   ]
  },
  {
   "cell_type": "code",
   "execution_count": 35,
   "id": "f0679614-2cce-4c29-ab79-c7d31700497e",
   "metadata": {},
   "outputs": [
    {
     "name": "stdout",
     "output_type": "stream",
     "text": [
      "    Name  Age Department  Salary\n",
      "0   John   28         HR   45000\n",
      "1  Alice   34         IT   60000\n",
      "2    Bob   23  Marketing   35000\n",
      "3  Diana   29    Finance   50000\n"
     ]
    }
   ],
   "source": [
    "# Importing the pandas library\n",
    "import pandas as pd\n",
    "\n",
    "# Creating a dictionary with the provided data\n",
    "data = {\n",
    "    'Name': ['John', 'Alice', 'Bob', 'Diana'],\n",
    "    'Age': [28, 34, 23, 29],\n",
    "    'Department': ['HR', 'IT', 'Marketing', 'Finance'],\n",
    "    'Salary': [45000, 60000, 35000, 50000]\n",
    "}\n",
    "\n",
    "# Creating the DataFrame\n",
    "df = pd.DataFrame(data)\n",
    "\n",
    "# Displaying the DataFrame\n",
    "print(df)\n"
   ]
  },
  {
   "cell_type": "code",
   "execution_count": 37,
   "id": "7d031eee-f9e9-4f21-9e5a-3b80fb70da7a",
   "metadata": {},
   "outputs": [
    {
     "name": "stdout",
     "output_type": "stream",
     "text": [
      "First 2 rows of the DataFrame:\n",
      "    Name  Age  Salary\n",
      "0  Alice   23   50000\n",
      "1    Bob   30   60000\n",
      "\n",
      "Average Salary of employees: 58750.0\n",
      "\n",
      "Employees older than 25:\n",
      "    Name  Age  Salary   Bonus\n",
      "1    Bob   30   60000  6000.0\n",
      "3  David   35   70000  7000.0\n"
     ]
    }
   ],
   "source": [
    "import pandas as pd\n",
    "\n",
    "# Sample DataFrame (replace this with your actual data)\n",
    "data = {\n",
    "    'Name': ['Alice', 'Bob', 'Charlie', 'David'],\n",
    "    'Age': [23, 30, 22, 35],\n",
    "    'Salary': [50000, 60000, 55000, 70000]\n",
    "}\n",
    "\n",
    "df = pd.DataFrame(data)\n",
    "\n",
    "# Display the first 2 rows\n",
    "print(\"First 2 rows of the DataFrame:\")\n",
    "print(df.head(2))\n",
    "\n",
    "# Add a new column 'Bonus' where bonus is 10% of the salary\n",
    "df['Bonus'] = df['Salary'] * 0.10\n",
    "\n",
    "# Calculate the average salary of employees\n",
    "average_salary = df['Salary'].mean()\n",
    "print(\"\\nAverage Salary of employees:\", average_salary)\n",
    "\n",
    "# Filter and display employees older than 25\n",
    "employees_older_than_25 = df[df['Age'] > 25]\n",
    "print(\"\\nEmployees older than 25:\")\n",
    "print(employees_older_than_25)\n"
   ]
  },
  {
   "cell_type": "code",
   "execution_count": 39,
   "id": "53748f15-69b0-4514-8cd4-355f9819d14b",
   "metadata": {},
   "outputs": [
    {
     "name": "stdout",
     "output_type": "stream",
     "text": [
      "First 5 rows of the dataset:\n",
      "         Date Product Region    Sales  Profit  Quantity\n",
      "0  2023-01-02  Tablet   East  1061.81  236.12         7\n",
      "1  2023-01-06  Laptop  North  1926.07  246.34         8\n",
      "2  2023-01-03  Tablet   East  1597.99  253.17         3\n",
      "3  2023-01-20  Tablet  North  1397.99  242.23         1\n",
      "4  2023-01-04  Laptop   West   734.03  140.36         4\n",
      "\n",
      "Basic statistics of numerical columns:\n",
      "             Sales      Profit   Quantity\n",
      "count    20.000000   20.000000  20.000000\n",
      "mean   1186.553000  211.533000   5.050000\n",
      "std     461.528444   66.916251   2.543826\n",
      "min     530.880000   82.160000   1.000000\n",
      "25%     774.517500  166.515000   2.750000\n",
      "50%    1104.865000  214.670000   5.000000\n",
      "75%    1571.080000  248.047500   7.250000\n",
      "max    1954.860000  364.970000   9.000000\n"
     ]
    }
   ],
   "source": [
    "import pandas as pd\n",
    "\n",
    "# Load the sales_data.csv file\n",
    "df = pd.read_csv('sales_data.csv')\n",
    "\n",
    "# Display the first 5 rows of the dataset\n",
    "print(\"First 5 rows of the dataset:\")\n",
    "print(df.head())\n",
    "\n",
    "# Print basic statistics of the numerical columns\n",
    "print(\"\\nBasic statistics of numerical columns:\")\n",
    "print(df.describe())\n"
   ]
  },
  {
   "cell_type": "code",
   "execution_count": 41,
   "id": "0cfacf83-a482-44b2-8114-0692c7d788ab",
   "metadata": {},
   "outputs": [
    {
     "name": "stdout",
     "output_type": "stream",
     "text": [
      "Total sales for each region:\n",
      "Region\n",
      "East      5818.93\n",
      "North    10449.68\n",
      "South      936.84\n",
      "West      6525.61\n",
      "Name: Sales, dtype: float64\n",
      "\n",
      "Most sold product (based on quantity):\n",
      "Tablet\n",
      "\n",
      "Average profit margin for each product:\n",
      "Product\n",
      "Keyboard      20.080696\n",
      "Laptop        17.112734\n",
      "Monitor       15.134989\n",
      "Smartphone    23.703647\n",
      "Tablet        19.955758\n",
      "Name: Profit Margin, dtype: float64\n"
     ]
    }
   ],
   "source": [
    "import pandas as pd\n",
    "\n",
    "# Load the sales_data.csv file (replace with your actual file path if needed)\n",
    "df = pd.read_csv('sales_data.csv')\n",
    "\n",
    "# 1. Calculate the total sales for each region\n",
    "total_sales_per_region = df.groupby('Region')['Sales'].sum()\n",
    "print(\"Total sales for each region:\")\n",
    "print(total_sales_per_region)\n",
    "\n",
    "# 2. Find the most sold product (based on quantity)\n",
    "most_sold_product = df.groupby('Product')['Quantity'].sum().idxmax()\n",
    "print(\"\\nMost sold product (based on quantity):\")\n",
    "print(most_sold_product)\n",
    "\n",
    "# 3. Compute the average profit margin for each product\n",
    "df['Profit Margin'] = (df['Profit'] / df['Sales']) * 100\n",
    "average_profit_margin_per_product = df.groupby('Product')['Profit Margin'].mean()\n",
    "print(\"\\nAverage profit margin for each product:\")\n",
    "print(average_profit_margin_per_product)\n"
   ]
  },
  {
   "cell_type": "code",
   "execution_count": 43,
   "id": "490f958b-bfee-4e5c-a3ba-f9529f39e029",
   "metadata": {},
   "outputs": [
    {
     "name": "stdout",
     "output_type": "stream",
     "text": [
      "Sales greater than 1000:\n",
      "          Date     Product Region    Sales  Profit  Quantity\n",
      "0   2023-01-02      Tablet   East  1061.81  236.12         7\n",
      "1   2023-01-06      Laptop  North  1926.07  246.34         8\n",
      "2   2023-01-03      Tablet   East  1597.99  253.17         3\n",
      "3   2023-01-20      Tablet  North  1397.99  242.23         1\n",
      "7   2023-01-07  Smartphone   East  1799.26  364.97         4\n",
      "8   2023-01-11  Smartphone   West  1401.67  306.24         2\n",
      "9   2023-01-01      Laptop  North  1562.11  170.72         6\n",
      "11  2023-01-12      Laptop   West  1954.86  262.16         4\n",
      "12  2023-01-09     Monitor  North  1748.66  197.62         6\n",
      "17  2023-01-18     Monitor   West  1287.13  153.86         7\n",
      "18  2023-01-13      Tablet   West  1147.92  271.88         9\n",
      "\n",
      "Sales records for the 'East' region:\n",
      "          Date     Product Region    Sales  Profit  Quantity\n",
      "0   2023-01-02      Tablet   East  1061.81  236.12         7\n",
      "2   2023-01-03      Tablet   East  1597.99  253.17         3\n",
      "6   2023-01-14    Keyboard   East   587.13   82.16         8\n",
      "7   2023-01-07  Smartphone   East  1799.26  364.97         4\n",
      "14  2023-01-08      Laptop   East   772.74  226.51         2\n"
     ]
    }
   ],
   "source": [
    "import pandas as pd\n",
    "\n",
    "# Load the sales_data.csv file (replace with your actual file path if needed)\n",
    "df = pd.read_csv('sales_data.csv')\n",
    "\n",
    "# 1. Extract all rows where sales are greater than 1000\n",
    "sales_greater_than_1000 = df[df['Sales'] > 1000]\n",
    "print(\"Sales greater than 1000:\")\n",
    "print(sales_greater_than_1000)\n",
    "\n",
    "# 2. Find all sales records for a specific region (e.g., \"East\")\n",
    "region_sales = df[df['Region'] == 'East']\n",
    "print(\"\\nSales records for the 'East' region:\")\n",
    "print(region_sales)\n"
   ]
  },
  {
   "cell_type": "code",
   "execution_count": 47,
   "id": "9a929bbc-823d-40ad-b7df-884e80cc1532",
   "metadata": {},
   "outputs": [
    {
     "name": "stdout",
     "output_type": "stream",
     "text": [
      "Data with 'Profit_Per_Unit' column:\n",
      "       Product  Profit  Quantity  Profit_Per_Unit\n",
      "0       Tablet  236.12         7        33.731429\n",
      "1       Laptop  246.34         8        30.792500\n",
      "2       Tablet  253.17         3        84.390000\n",
      "3       Tablet  242.23         1       242.230000\n",
      "4       Laptop  140.36         4        35.090000\n",
      "5       Tablet  188.66         2        94.330000\n",
      "6     Keyboard   82.16         8        10.270000\n",
      "7   Smartphone  364.97         4        91.242500\n",
      "8   Smartphone  306.24         2       153.120000\n",
      "9       Laptop  170.72         6        28.453333\n",
      "10     Monitor  117.59         6        19.598333\n",
      "11      Laptop  262.16         4        65.540000\n",
      "12     Monitor  197.62         6        32.936667\n",
      "13  Smartphone  237.19         2       118.595000\n",
      "14      Laptop  226.51         2       113.255000\n",
      "15    Keyboard  202.83         4        50.707500\n",
      "16      Tablet  153.90         8        19.237500\n",
      "17     Monitor  153.86         7        21.980000\n",
      "18      Tablet  271.88         9        30.208889\n",
      "19      Tablet  176.15         8        22.018750\n",
      "\n",
      "Data with 'High_Sales' column:\n",
      "       Product    Sales High_Sales\n",
      "0       Tablet  1061.81        Yes\n",
      "1       Laptop  1926.07        Yes\n",
      "2       Tablet  1597.99        Yes\n",
      "3       Tablet  1397.99        Yes\n",
      "4       Laptop   734.03         No\n",
      "5       Tablet   733.99         No\n",
      "6     Keyboard   587.13         No\n",
      "7   Smartphone  1799.26        Yes\n",
      "8   Smartphone  1401.67        Yes\n",
      "9       Laptop  1562.11        Yes\n",
      "10     Monitor   530.88         No\n",
      "11      Laptop  1954.86        Yes\n",
      "12     Monitor  1748.66        Yes\n",
      "13  Smartphone   818.51         No\n",
      "14      Laptop   772.74         No\n",
      "15    Keyboard   775.11         No\n",
      "16      Tablet   956.36         No\n",
      "17     Monitor  1287.13        Yes\n",
      "18      Tablet  1147.92        Yes\n",
      "19      Tablet   936.84         No\n"
     ]
    }
   ],
   "source": [
    "import pandas as pd\n",
    "\n",
    "# Load the sales_data.csv file (replace with your actual file path if needed)\n",
    "df = pd.read_csv('sales_data.csv')\n",
    "\n",
    "# 1. Add a new column 'Profit_Per_Unit' calculated as Profit / Quantity\n",
    "df['Profit_Per_Unit'] = df['Profit'] / df['Quantity']\n",
    "print(\"Data with 'Profit_Per_Unit' column:\")\n",
    "print(df[['Product', 'Profit', 'Quantity', 'Profit_Per_Unit']])\n",
    "\n",
    "# 2. Create a new column 'High_Sales', which labels rows as 'Yes' if Sales > 1000, else 'No'\n",
    "df['High_Sales'] = df['Sales'].apply(lambda x: 'Yes' if x > 1000 else 'No')\n",
    "print(\"\\nData with 'High_Sales' column:\")\n",
    "print(df[['Product', 'Sales', 'High_Sales']])\n",
    "\n"
   ]
  },
  {
   "cell_type": "code",
   "execution_count": 49,
   "id": "65a412f7-3426-4270-924a-d65fdd4c3812",
   "metadata": {},
   "outputs": [
    {
     "name": "stdout",
     "output_type": "stream",
     "text": [
      "First 5 rows of the dataset:\n",
      "         Date       Account_Type    Branch Transaction_Type  \\\n",
      "0  2023-01-19      Fixed Deposit   Central     Loan Payment   \n",
      "1  2023-01-16            Current    Uptown       Withdrawal   \n",
      "2  2023-01-10            Current    Uptown     Loan Payment   \n",
      "3  2023-01-18            Savings    Uptown     Loan Payment   \n",
      "4  2023-01-14  Recurring Deposit  Suburban     Loan Payment   \n",
      "\n",
      "   Transaction_Amount  Account_Balance  \n",
      "0              985.51          6839.59  \n",
      "1              641.43          8908.39  \n",
      "2             3363.85         12428.67  \n",
      "3             1914.60          5776.63  \n",
      "4             2788.57          4779.04  \n",
      "\n",
      "Basic statistics of numerical columns:\n",
      "       Transaction_Amount  Account_Balance\n",
      "count           20.000000        20.000000\n",
      "mean          2705.829500      7967.766500\n",
      "std           1429.829787      2770.248821\n",
      "min            641.430000      2592.160000\n",
      "25%           1482.085000      6460.127500\n",
      "50%           2567.645000      7905.275000\n",
      "75%           4121.525000      9127.702500\n",
      "max           4683.640000     12836.510000\n",
      "\n",
      "Missing values in each column:\n",
      "Date                  0\n",
      "Account_Type          0\n",
      "Branch                0\n",
      "Transaction_Type      0\n",
      "Transaction_Amount    0\n",
      "Account_Balance       0\n",
      "dtype: int64\n"
     ]
    }
   ],
   "source": [
    "import pandas as pd\n",
    "\n",
    "# Load the banking_data.csv file (replace with your actual file path if needed)\n",
    "df = pd.read_csv('banking_data.csv')\n",
    "\n",
    "# 1. Display the first 5 rows of the dataset\n",
    "print(\"First 5 rows of the dataset:\")\n",
    "print(df.head())\n",
    "\n",
    "# 2. Generate basic statistics of the numerical columns\n",
    "print(\"\\nBasic statistics of numerical columns:\")\n",
    "print(df.describe())\n",
    "\n",
    "# 3. Check for missing values in the dataset\n",
    "print(\"\\nMissing values in each column:\")\n",
    "print(df.isnull().sum())\n"
   ]
  },
  {
   "cell_type": "markdown",
   "id": "bd19e9ac-527e-4c87-a7f7-6834be344a8f",
   "metadata": {},
   "source": [
    "Objective:\n",
    " - Understand how to load and inspect the dataset.\n",
    " - Use basic descriptive statistics and data integrity checks.\n"
   ]
  },
  {
   "cell_type": "code",
   "execution_count": 52,
   "id": "54c3849d-1f54-4c13-aafa-5199cdbd4f58",
   "metadata": {},
   "outputs": [
    {
     "name": "stdout",
     "output_type": "stream",
     "text": [
      "Total sum of Transaction_Amount and average Account_Balance by Account_Type:\n",
      "                   Total_Transaction_Amount  Average_Account_Balance\n",
      "Account_Type                                                        \n",
      "Current                            15052.57              9893.404000\n",
      "Fixed Deposit                      14102.59              6120.380000\n",
      "Recurring Deposit                  15179.99              7627.283333\n",
      "Savings                             9781.44              9134.110000\n",
      "\n",
      "Total number of transactions and average transaction amount per branch:\n",
      "          Total_Transactions  Average_Transaction_Amount\n",
      "Branch                                                  \n",
      "Central                    8                 2942.338750\n",
      "Downtown                   3                 3188.703333\n",
      "Suburban                   5                 2773.278000\n",
      "Uptown                     4                 1786.345000\n"
     ]
    }
   ],
   "source": [
    "import pandas as pd\n",
    "\n",
    "# Load the banking_data.csv file (replace with your actual file path if needed)\n",
    "df = pd.read_csv('banking_data.csv')\n",
    "\n",
    "# 1. Group the data by Account_Type and calculate:\n",
    "# - The total sum of Transaction_Amount\n",
    "# - The average Account_Balance for each account type\n",
    "\n",
    "account_type_group = df.groupby('Account_Type').agg(\n",
    "    Total_Transaction_Amount=('Transaction_Amount', 'sum'),\n",
    "    Average_Account_Balance=('Account_Balance', 'mean')\n",
    ")\n",
    "\n",
    "print(\"Total sum of Transaction_Amount and average Account_Balance by Account_Type:\")\n",
    "print(account_type_group)\n",
    "\n",
    "# 2. Group the data by Branch and calculate:\n",
    "# - The total number of transactions per branch\n",
    "# - The average transaction amount per branch\n",
    "\n",
    "branch_group = df.groupby('Branch').agg(\n",
    "    Total_Transactions=('Transaction_Amount', 'size'),\n",
    "    Average_Transaction_Amount=('Transaction_Amount', 'mean')\n",
    ")\n",
    "\n",
    "print(\"\\nTotal number of transactions and average transaction amount per branch:\")\n",
    "print(branch_group)\n"
   ]
  },
  {
   "cell_type": "markdown",
   "id": "e281181b-2973-4d9f-96aa-caf4a773601b",
   "metadata": {},
   "source": [
    "Objective:\n",
    " - Learn to use groupby() for aggregating data by categories.\n",
    " - Gain skills in calculating grouped statistics.\n"
   ]
  },
  {
   "cell_type": "code",
   "execution_count": 55,
   "id": "f6cf9ef9-9b02-480b-9fb0-4749fef8eacd",
   "metadata": {},
   "outputs": [
    {
     "name": "stdout",
     "output_type": "stream",
     "text": [
      "Transactions with Transaction_Amount <= 2000:\n",
      "          Date       Account_Type    Branch Transaction_Type  \\\n",
      "0   2023-01-19      Fixed Deposit   Central     Loan Payment   \n",
      "1   2023-01-16            Current    Uptown       Withdrawal   \n",
      "3   2023-01-18            Savings    Uptown     Loan Payment   \n",
      "6   2023-01-04  Recurring Deposit   Central   Service Charge   \n",
      "9   2023-01-11      Fixed Deposit  Downtown          Deposit   \n",
      "10  2023-01-13  Recurring Deposit   Central          Deposit   \n",
      "11  2023-01-08      Fixed Deposit  Suburban   Service Charge   \n",
      "12  2023-01-15      Fixed Deposit    Uptown   Service Charge   \n",
      "18  2023-01-12  Recurring Deposit  Suburban   Service Charge   \n",
      "\n",
      "    Transaction_Amount  Account_Balance  \n",
      "0               985.51          6839.59  \n",
      "1               641.43          8908.39  \n",
      "3              1914.60          5776.63  \n",
      "6              1621.82          6465.79  \n",
      "9              1529.59          2592.16  \n",
      "10              846.41          6443.14  \n",
      "11             1803.88          6560.58  \n",
      "12             1225.50          4224.47  \n",
      "18             1339.57          8666.74  \n",
      "\n",
      "Loan Payments with Account_Balance > 5000:\n",
      "          Date       Account_Type   Branch Transaction_Type  \\\n",
      "0   2023-01-19      Fixed Deposit  Central     Loan Payment   \n",
      "2   2023-01-10            Current   Uptown     Loan Payment   \n",
      "3   2023-01-18            Savings   Uptown     Loan Payment   \n",
      "7   2023-01-09            Current  Central     Loan Payment   \n",
      "13  2023-01-05  Recurring Deposit  Central     Loan Payment   \n",
      "17  2023-01-07            Current  Central     Loan Payment   \n",
      "\n",
      "    Transaction_Amount  Account_Balance  \n",
      "0               985.51          6839.59  \n",
      "2              3363.85         12428.67  \n",
      "3              1914.60          5776.63  \n",
      "7              2346.72         10708.85  \n",
      "13             4683.64          6762.43  \n",
      "17             4116.52          9785.64  \n",
      "\n",
      "Transactions made in the 'Uptown' branch:\n",
      "          Date   Account_Type  Branch Transaction_Type  Transaction_Amount  \\\n",
      "1   2023-01-16        Current  Uptown       Withdrawal              641.43   \n",
      "2   2023-01-10        Current  Uptown     Loan Payment             3363.85   \n",
      "3   2023-01-18        Savings  Uptown     Loan Payment             1914.60   \n",
      "12  2023-01-15  Fixed Deposit  Uptown   Service Charge             1225.50   \n",
      "\n",
      "    Account_Balance  \n",
      "1           8908.39  \n",
      "2          12428.67  \n",
      "3           5776.63  \n",
      "12          4224.47  \n"
     ]
    }
   ],
   "source": [
    "import pandas as pd\n",
    "\n",
    "# Load the banking_data.csv file (replace with your actual file path if needed)\n",
    "df = pd.read_csv('banking_data.csv')\n",
    "\n",
    "# 1. Filter out all rows where the Transaction_Amount is greater than 2000\n",
    "filtered_transactions = df[df['Transaction_Amount'] <= 2000]\n",
    "print(\"Transactions with Transaction_Amount <= 2000:\")\n",
    "print(filtered_transactions)\n",
    "\n",
    "# 2. Find all rows where the Transaction_Type is \"Loan Payment\" and the Account_Balance is greater than 5000\n",
    "loan_payments_high_balance = df[(df['Transaction_Type'] == 'Loan Payment') & (df['Account_Balance'] > 5000)]\n",
    "print(\"\\nLoan Payments with Account_Balance > 5000:\")\n",
    "print(loan_payments_high_balance)\n",
    "\n",
    "# 3. Extract transactions made in the \"Uptown\" branch\n",
    "uptown_transactions = df[df['Branch'] == 'Uptown']\n",
    "print(\"\\nTransactions made in the 'Uptown' branch:\")\n",
    "print(uptown_transactions)\n"
   ]
  },
  {
   "cell_type": "markdown",
   "id": "310a46dc-d04d-495f-8bdb-4e7ac00fe49a",
   "metadata": {},
   "source": [
    "Objective:\n",
    " - Practice filtering data using conditions and boolean indexing.\n"
   ]
  },
  {
   "cell_type": "code",
   "execution_count": 58,
   "id": "96144af8-e605-44fe-ade2-fabd9fdaccd9",
   "metadata": {},
   "outputs": [
    {
     "name": "stdout",
     "output_type": "stream",
     "text": [
      "Data with 'Transaction_Fee' column:\n",
      "    Transaction_Amount  Transaction_Fee\n",
      "0               985.51          19.7102\n",
      "1               641.43          12.8286\n",
      "2              3363.85          67.2770\n",
      "3              1914.60          38.2920\n",
      "4              2788.57          55.7714\n",
      "5              4584.05          91.6810\n",
      "6              1621.82          32.4364\n",
      "7              2346.72          46.9344\n",
      "8              3899.98          77.9996\n",
      "9              1529.59          30.5918\n",
      "10              846.41          16.9282\n",
      "11             1803.88          36.0776\n",
      "12             1225.50          24.5100\n",
      "13             4683.64          93.6728\n",
      "14             4136.54          82.7308\n",
      "15             3350.32          67.0064\n",
      "16             4421.57          88.4314\n",
      "17             4116.52          82.3304\n",
      "18             1339.57          26.7914\n",
      "19             4516.52          90.3304\n",
      "\n",
      "Data with 'Balance_Status' column:\n",
      "    Account_Balance Balance_Status\n",
      "0           6839.59   High Balance\n",
      "1           8908.39   High Balance\n",
      "2          12428.67   High Balance\n",
      "3           5776.63   High Balance\n",
      "4           4779.04    Low Balance\n",
      "5           7635.47   High Balance\n",
      "6           6465.79   High Balance\n",
      "7          10708.85   High Balance\n",
      "8          12646.56   High Balance\n",
      "9           2592.16    Low Balance\n",
      "10          6443.14   High Balance\n",
      "11          6560.58   High Balance\n",
      "12          4224.47    Low Balance\n",
      "13          6762.43   High Balance\n",
      "14          8175.08   High Balance\n",
      "15         12836.51   High Balance\n",
      "16          8330.40   High Balance\n",
      "17          9785.64   High Balance\n",
      "18          8666.74   High Balance\n",
      "19          8789.19   High Balance\n"
     ]
    }
   ],
   "source": [
    "import pandas as pd\n",
    "\n",
    "# Load the banking_data.csv file (replace with your actual file path if needed)\n",
    "df = pd.read_csv('banking_data.csv')\n",
    "\n",
    "# 1. Add a new column 'Transaction_Fee' calculated as 2% of Transaction_Amount\n",
    "df['Transaction_Fee'] = df['Transaction_Amount'] * 0.02\n",
    "print(\"Data with 'Transaction_Fee' column:\")\n",
    "print(df[['Transaction_Amount', 'Transaction_Fee']])\n",
    "\n",
    "# 2. Create a new column 'Balance_Status':\n",
    "# - If Account_Balance is greater than 5000, label it as \"High Balance\"\n",
    "# - Otherwise, label it as \"Low Balance\"\n",
    "df['Balance_Status'] = df['Account_Balance'].apply(lambda x: 'High Balance' if x > 5000 else 'Low Balance')\n",
    "print(\"\\nData with 'Balance_Status' column:\")\n",
    "print(df[['Account_Balance', 'Balance_Status']])\n"
   ]
  },
  {
   "cell_type": "markdown",
   "id": "5b873b8d-d3a2-4235-9ccf-01edc90ffa41",
   "metadata": {},
   "source": [
    "Objective:\n",
    " - Learn how to create new columns and apply transformations based on existing data.\n",
    "\n"
   ]
  },
  {
   "cell_type": "code",
   "execution_count": 61,
   "id": "37956c95-db21-4327-bee8-574622d4063f",
   "metadata": {},
   "outputs": [
    {
     "name": "stdout",
     "output_type": "stream",
     "text": [
      "First 10 rows after sorting by Account_Balance in descending order:\n",
      "          Date       Account_Type    Branch Transaction_Type  \\\n",
      "15  2023-01-03            Savings  Suburban   Service Charge   \n",
      "8   2023-01-20  Recurring Deposit  Downtown   Service Charge   \n",
      "2   2023-01-10            Current    Uptown     Loan Payment   \n",
      "7   2023-01-09            Current   Central     Loan Payment   \n",
      "17  2023-01-07            Current   Central     Loan Payment   \n",
      "1   2023-01-16            Current    Uptown       Withdrawal   \n",
      "19  2023-01-17            Savings   Central          Deposit   \n",
      "18  2023-01-12  Recurring Deposit  Suburban   Service Charge   \n",
      "16  2023-01-02      Fixed Deposit   Central          Deposit   \n",
      "14  2023-01-01      Fixed Deposit  Downtown       Withdrawal   \n",
      "\n",
      "    Transaction_Amount  Account_Balance  \n",
      "15             3350.32         12836.51  \n",
      "8              3899.98         12646.56  \n",
      "2              3363.85         12428.67  \n",
      "7              2346.72         10708.85  \n",
      "17             4116.52          9785.64  \n",
      "1               641.43          8908.39  \n",
      "19             4516.52          8789.19  \n",
      "18             1339.57          8666.74  \n",
      "16             4421.57          8330.40  \n",
      "14             4136.54          8175.08  \n",
      "\n",
      "Data with 'Transaction_Rank' column based on Transaction_Amount within each Branch:\n",
      "     Branch  Transaction_Amount  Transaction_Rank\n",
      "0   Central              985.51               7.0\n",
      "1    Uptown              641.43               4.0\n",
      "2    Uptown             3363.85               1.0\n",
      "3    Uptown             1914.60               2.0\n",
      "4  Suburban             2788.57               3.0\n"
     ]
    }
   ],
   "source": [
    "import pandas as pd\n",
    "\n",
    "# Load the banking_data.csv file (replace with your actual file path if needed)\n",
    "df = pd.read_csv('banking_data.csv')\n",
    "\n",
    "# 1. Sort the dataset by Account_Balance in descending order and display the first 10 rows\n",
    "sorted_df = df.sort_values(by='Account_Balance', ascending=False)\n",
    "print(\"First 10 rows after sorting by Account_Balance in descending order:\")\n",
    "print(sorted_df.head(10))\n",
    "\n",
    "# 2. Create a ranking column for Transaction_Amount within each Branch\n",
    "df['Transaction_Rank'] = df.groupby('Branch')['Transaction_Amount'].rank(ascending=False, method='dense')\n",
    "print(\"\\nData with 'Transaction_Rank' column based on Transaction_Amount within each Branch:\")\n",
    "print(df[['Branch', 'Transaction_Amount', 'Transaction_Rank']].head())\n"
   ]
  },
  {
   "cell_type": "markdown",
   "id": "54365f83-9714-42db-a070-8f2b106da9f7",
   "metadata": {},
   "source": [
    "Objective:\n",
    " - Learn how to sort data and apply ranking based on certain columns.\n"
   ]
  },
  {
   "cell_type": "code",
   "execution_count": 64,
   "id": "50bed5da-3ee3-4838-a52b-8f777e2dbcf9",
   "metadata": {},
   "outputs": [
    {
     "data": {
      "image/png": "[encoded data removed]",
      "text/plain": [
       "<Figure size 1000x600 with 1 Axes>"
      ]
     },
     "metadata": {},
     "output_type": "display_data"
    },
    {
     "data": {
      "image/png": "[encoded data removed]",
      "text/plain": [
       "<Figure size 800x800 with 1 Axes>"
      ]
     },
     "metadata": {},
     "output_type": "display_data"
    }
   ],
   "source": [
    "import pandas as pd\n",
    "import matplotlib.pyplot as plt\n",
    "\n",
    "# Load the banking_data.csv file (replace with your actual file path if needed)\n",
    "df = pd.read_csv('banking_data.csv')\n",
    "\n",
    "# 1. Plot the total sum of Transaction_Amount per Account_Type using a bar plot\n",
    "account_type_sum = df.groupby('Account_Type')['Transaction_Amount'].sum()\n",
    "\n",
    "plt.figure(figsize=(10, 6))\n",
    "account_type_sum.plot(kind='bar', color='skyblue')\n",
    "plt.title('Total Transaction Amount per Account Type')\n",
    "plt.xlabel('Account Type')\n",
    "plt.ylabel('Total Transaction Amount')\n",
    "plt.xticks(rotation=45)\n",
    "plt.tight_layout()\n",
    "plt.show()\n",
    "\n",
    "# 2. Create a pie chart to show the percentage of transactions per Branch\n",
    "branch_transactions = df['Branch'].value_counts()\n",
    "\n",
    "plt.figure(figsize=(8, 8))\n",
    "branch_transactions.plot(kind='pie', autopct='%1.1f%%', startangle=90, colors=['lightgreen', 'lightcoral', 'lightskyblue', 'lightyellow'])\n",
    "plt.title('Percentage of Transactions per Branch')\n",
    "plt.ylabel('')  # Hides the ylabel for a cleaner pie chart\n",
    "plt.tight_layout()\n",
    "plt.show()\n"
   ]
  },
  {
   "cell_type": "markdown",
   "id": "779a75a2-4b04-41f7-8d86-6d068e93b586",
   "metadata": {},
   "source": [
    "Objective:\n",
    " - Understand how to visualize data using Pandas' built-in plotting capabilities (Matplotlib integration).\n",
    "\n"
   ]
  },
  {
   "cell_type": "markdown",
   "id": "44e911fe-ea22-44f9-b2bf-2d5c096e5332",
   "metadata": {},
   "source": [
    "Objective:\n",
    " - Explore the relationship between marketing spend, sales, and drug effectiveness across different regions and age groups. Create visualizations using matplotlib and seaborn.\n"
   ]
  },
  {
   "cell_type": "code",
   "execution_count": null,
   "id": "a41edf90-207d-4a6a-b23e-e81e2430b290",
   "metadata": {},
   "outputs": [],
   "source": []
  }
 ],
 "metadata": {
  "kernelspec": {
   "display_name": "Python [conda env:base] *",
   "language": "python",
   "name": "conda-base-py"
  },
  "language_info": {
   "codemirror_mode": {
    "name": "ipython",
    "version": 3
   },
   "file_extension": ".py",
   "mimetype": "text/x-python",
   "name": "python",
   "nbconvert_exporter": "python",
   "pygments_lexer": "ipython3",
   "version": "3.12.7"
  }
 },
 "nbformat": 4,
 "nbformat_minor": 5
}
